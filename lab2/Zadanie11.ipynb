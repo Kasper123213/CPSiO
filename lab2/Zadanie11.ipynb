{
 "cells": [
  {
   "cell_type": "markdown",
   "id": "0ebe847e-c9a9-4baf-aea4-83bee2e7dc0e",
   "metadata": {},
   "source": [
    "<h1>Zadanie 11</h1>"
   ]
  },
  {
   "cell_type": "markdown",
   "id": "8a48718f-5db4-4966-a617-ab67479903cc",
   "metadata": {},
   "source": [
    "<h2>CYFROWE PRZETWARZANIE SYGNAŁÓW I OBRAZÓW <br>\n",
    "Przetwarzanie i analiza sygnału EKG</h2>\n",
    "<h3>\n",
    "Kasper Radom 264023 <br>\n",
    "Maciej Szymczak 263978</h3>"
   ]
  },
  {
   "cell_type": "markdown",
   "id": "71287856-266f-40f5-afab-77c09eb0ccad",
   "metadata": {},
   "source": [
    "Importowanie niezbędnych bibliotek i deklaracja funkcji wczytującej obraz"
   ]
  },
  {
   "cell_type": "code",
   "execution_count": 1,
   "id": "dd7a8033-a4b3-4826-b9e7-9af302633008",
   "metadata": {},
   "outputs": [],
   "source": [
    "%matplotlib ipympl\n",
    "import numpy as np\n",
    "import skimage as ski\n",
    "import matplotlib.pyplot as plt\n",
    "from ipywidgets import interact, widgets\n",
    "from matplotlib.gridspec import GridSpec\n",
    "from matplotlib.widgets import SpanSelector\n",
    "\n",
    "image = ski.io.imread('circuitmask.tif')\n",
    "def readImage(imageName):\n",
    "    global image\n",
    "    image = ski.io.imread(imageName)\n",
    "    \n",
    "    \n",
    "def showImage(image):\n",
    "    plt.figure()\n",
    "    #ski.io.imshow(image)\n",
    "    plt.imshow(image, cmap='gray')\n",
    "    plt.title(dropdown.value[:-4])\n",
    "    ski.io.show()\n",
    "\n",
    "def showBoth(image1, image2):\n",
    "    plt.figure(figsize=(10, 5))\n",
    "    plt.subplot(1, 2, 1)\n",
    "    plt.imshow(image1, cmap='gray')\n",
    "    plt.title('Oryginalny obraz')\n",
    "    plt.axis('off')\n",
    "    \n",
    "    plt.subplot(1, 2, 2)\n",
    "    plt.imshow(image2, cmap='gray')\n",
    "    plt.axis('off')\n",
    "    \n",
    "    plt.show()"
   ]
  },
  {
   "cell_type": "markdown",
   "id": "c54ebc80-6cb7-4983-a952-cca3a378b9ec",
   "metadata": {},
   "source": [
    "Wybór obrazu"
   ]
  },
  {
   "cell_type": "code",
   "execution_count": 2,
   "id": "3091e801-4ce0-4368-a42f-ac3d4d9d8663",
   "metadata": {},
   "outputs": [
    {
     "data": {
      "application/vnd.jupyter.widget-view+json": {
       "model_id": "bbc1ccafa25f474a97ef9604f1355f8a",
       "version_major": 2,
       "version_minor": 0
      },
      "text/plain": [
       "Dropdown(description='Wybierz plik:', options=('circuitmask.tif', 'cboard_salt_pepper.tif', 'chest-xray.tif', …"
      ]
     },
     "metadata": {},
     "output_type": "display_data"
    },
    {
     "data": {
      "application/vnd.jupyter.widget-view+json": {
       "model_id": "7d39ac62c20a48faaf7c97dc46ce31f2",
       "version_major": 2,
       "version_minor": 0
      },
      "text/plain": [
       "Output()"
      ]
     },
     "metadata": {},
     "output_type": "display_data"
    },
    {
     "data": {
      "application/vnd.jupyter.widget-view+json": {
       "model_id": "81d53a44b7584728955c139b6f31df9c",
       "version_major": 2,
       "version_minor": 0
      },
      "text/plain": [
       "interactive(children=(Dropdown(description='Wybierz plik:', options=('circuitmask.tif', 'cboard_salt_pepper.ti…"
      ]
     },
     "metadata": {},
     "output_type": "display_data"
    }
   ],
   "source": [
    "options = ['circuitmask.tif', 'cboard_salt_pepper.tif', 'chest-xray.tif', 'aerial_view.tif', 'blurry-moon.tif', 'bonescan.tif', 'cboard_pepper_only.tif', 'cboard_salt_only.tif', 'characters_test_pattern.tif', 'einstein-low-contrast.tif', 'hidden-symbols.tif', 'pollen-dark.tif', 'pollen-ligt.tif', 'pollen-lowcontrast.tif', 'pout.tif', 'spectrum.tif', 'text-dipxe-blurred.tif', 'zoneplate.tif']\n",
    "\n",
    "\n",
    "dropdown = widgets.Dropdown(\n",
    "    options=options,\n",
    "    description='Wybierz plik:',\n",
    ")\n",
    "\n",
    "output = widgets.interactive_output(readImage, {'imageName': dropdown})\n",
    "display(dropdown, output)\n",
    "\n",
    "\n",
    "@interact(imageName = dropdown)\n",
    "def closeAll(imageName):\n",
    "    plt.close(\"all\")"
   ]
  },
  {
   "cell_type": "markdown",
   "id": "694fa10f-0d83-4c96-a16d-231014b5acff",
   "metadata": {},
   "source": [
    "Wyświetlanie wybranego obrazu"
   ]
  },
  {
   "cell_type": "code",
   "execution_count": 3,
   "id": "a93a126c-6460-48f8-9cb6-39f7e1d2072e",
   "metadata": {},
   "outputs": [
    {
     "data": {
      "application/vnd.jupyter.widget-view+json": {
       "model_id": "1614b0c1ad234da0922986e021b57868",
       "version_major": 2,
       "version_minor": 0
      },
      "text/plain": [
       "interactive(children=(Dropdown(description='Wybierz plik:', options=('circuitmask.tif', 'cboard_salt_pepper.ti…"
      ]
     },
     "metadata": {},
     "output_type": "display_data"
    }
   ],
   "source": [
    "@interact(imageName = dropdown)\n",
    "def showOriginImage(imageName):\n",
    "    readImage(imageName)\n",
    "    showImage(image)"
   ]
  },
  {
   "cell_type": "markdown",
   "id": "a7791b38-98f4-4a61-aba0-9082e01216e6",
   "metadata": {},
   "source": [
    "<h3>a)</h3>\n",
    "Wykrywanie krawędzi"
   ]
  },
  {
   "cell_type": "code",
   "execution_count": 4,
   "id": "d83f0aa9-a802-46f4-a883-9946398f77d2",
   "metadata": {},
   "outputs": [
    {
     "data": {
      "application/vnd.jupyter.widget-view+json": {
       "model_id": "3a0c96c18f4e44b59d616cf79cd7db79",
       "version_major": 2,
       "version_minor": 0
      },
      "text/plain": [
       "interactive(children=(Dropdown(description='Wybierz plik:', options=('circuitmask.tif', 'cboard_salt_pepper.ti…"
      ]
     },
     "metadata": {},
     "output_type": "display_data"
    }
   ],
   "source": [
    "@interact(imageName = dropdown)\n",
    "def filterSobel(imageName):\n",
    "    readImage(imageName)\n",
    "    filtredImage = ski.filters.sobel(image)\n",
    "    showBoth(image, filtredImage)"
   ]
  },
  {
   "cell_type": "markdown",
   "id": "2beeecd5-932c-4fad-86c6-b7707af52beb",
   "metadata": {},
   "source": [
    "<h3>b)</h3>\n",
    "Wyostrzanie laplasjanem"
   ]
  },
  {
   "cell_type": "code",
   "execution_count": 5,
   "id": "8e976f31-0778-4d3c-a696-09fa8f437f28",
   "metadata": {},
   "outputs": [
    {
     "data": {
      "application/vnd.jupyter.widget-view+json": {
       "model_id": "99019436d7c1458c84467fac55e5567d",
       "version_major": 2,
       "version_minor": 0
      },
      "text/plain": [
       "interactive(children=(Dropdown(description='Wybierz plik:', options=('circuitmask.tif', 'cboard_salt_pepper.ti…"
      ]
     },
     "metadata": {},
     "output_type": "display_data"
    }
   ],
   "source": [
    "@interact(imageName = dropdown)\n",
    "def filterLaplace(imageName):\n",
    "    readImage(imageName)\n",
    "    filtredImage = image + (-1) * ski.filters.laplace(image) ** 2\n",
    "    showBoth(image, filtredImage)"
   ]
  },
  {
   "cell_type": "markdown",
   "id": "4ef5af10-5ef3-4f69-8e75-0c5373b44cf2",
   "metadata": {},
   "source": [
    "<h3>c)</h3>\n",
    "Unsharpmask"
   ]
  },
  {
   "cell_type": "code",
   "execution_count": 16,
   "id": "6f7b9a61-1644-4924-95a5-c45d278f3657",
   "metadata": {},
   "outputs": [
    {
     "data": {
      "application/vnd.jupyter.widget-view+json": {
       "model_id": "a198c09c40b94b538f2314b0f2331ade",
       "version_major": 2,
       "version_minor": 0
      },
      "text/plain": [
       "interactive(children=(Dropdown(description='Wybierz plik:', index=16, options=('circuitmask.tif', 'cboard_salt…"
      ]
     },
     "metadata": {},
     "output_type": "display_data"
    }
   ],
   "source": [
    "@interact(imageName = dropdown)\n",
    "def filterUnsharp(imageName):\n",
    "    readImage(imageName)\n",
    "    filtredImage = ski.filters.unsharp_mask(image, radius=5, amount=1)\n",
    "    showBoth(image, filtredImage)"
   ]
  },
  {
   "cell_type": "code",
   "execution_count": 9,
   "id": "0b39b839-8054-43d7-bf9b-fdab8de87554",
   "metadata": {},
   "outputs": [
    {
     "data": {
      "application/vnd.jupyter.widget-view+json": {
       "model_id": "9c17507322ce41f29e817c578d0c86af",
       "version_major": 2,
       "version_minor": 0
      },
      "text/plain": [
       "interactive(children=(Dropdown(description='Wybierz plik:', options=('circuitmask.tif', 'cboard_salt_pepper.ti…"
      ]
     },
     "metadata": {},
     "output_type": "display_data"
    }
   ],
   "source": [
    "@interact(imageName = dropdown)\n",
    "def filterHighBoost(imageName):\n",
    "    readImage(imageName)\n",
    "    filtredImage = ski.filters.unsharp_mask(image, radius=10, amount=4.5)\n",
    "    showBoth(image, filtredImage)"
   ]
  },
  {
   "cell_type": "code",
   "execution_count": null,
   "id": "bb6d8336-fc85-48c5-8324-2113f71d3081",
   "metadata": {},
   "outputs": [],
   "source": []
  }
 ],
 "metadata": {
  "kernelspec": {
   "display_name": "Python 3 (ipykernel)",
   "language": "python",
   "name": "python3"
  },
  "language_info": {
   "codemirror_mode": {
    "name": "ipython",
    "version": 3
   },
   "file_extension": ".py",
   "mimetype": "text/x-python",
   "name": "python",
   "nbconvert_exporter": "python",
   "pygments_lexer": "ipython3",
   "version": "3.11.4"
  }
 },
 "nbformat": 4,
 "nbformat_minor": 5
}
