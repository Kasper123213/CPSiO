{
 "cells": [
  {
   "cell_type": "markdown",
   "id": "1aa396e8-cfd8-4209-a305-a3637a3b874a",
   "metadata": {},
   "source": [
    "<h1>Zadanie 7</h1>"
   ]
  },
  {
   "cell_type": "markdown",
   "id": "2a3febeb-5f77-4b98-87e3-ce134b37c426",
   "metadata": {},
   "source": [
    "<h2>CYFROWE PRZETWARZANIE SYGNAŁÓW I OBRAZÓW <br>\n",
    "Przetwarzanie i analiza sygnału EKG</h2>\n",
    "<h3>\n",
    "Kasper Radom 264023 <br>\n",
    "Maciej Szymczak 263978</h3>"
   ]
  },
  {
   "cell_type": "markdown",
   "id": "0c306dd8-974f-46fd-b927-9d3f7289e1a0",
   "metadata": {},
   "source": [
    "Importowanie niezbędnych bibliotek i deklaracja funkcji wczytującej obraz"
   ]
  },
  {
   "cell_type": "code",
   "execution_count": 1,
   "id": "7afbb978-ea9d-456a-afb8-94d515ae7cf0",
   "metadata": {},
   "outputs": [],
   "source": [
    "%matplotlib ipympl\n",
    "import skimage as ski\n",
    "import matplotlib.pyplot as plt\n",
    "from ipywidgets import interact, widgets\n",
    "from matplotlib.gridspec import GridSpec\n",
    "from matplotlib.widgets import SpanSelector\n",
    "\n",
    "image = ski.io.imread('chest-xray.tif')\n",
    "def readImage(imageName):\n",
    "    global image\n",
    "    image = ski.io.imread(imageName)\n",
    "    \n",
    "    \n",
    "def showImage(image):\n",
    "    plt.figure()\n",
    "    ski.io.imshow(image)\n",
    "    plt.title(dropdown.value[:-4])\n",
    "    ski.io.show()"
   ]
  },
  {
   "cell_type": "markdown",
   "id": "8e758af3-d732-4d19-9f9a-8a93aa66dc27",
   "metadata": {},
   "source": [
    "Wybór obrazu"
   ]
  },
  {
   "cell_type": "code",
   "execution_count": 2,
   "id": "43b9a711-73ae-4dec-af10-86b6dce41a70",
   "metadata": {},
   "outputs": [
    {
     "data": {
      "application/vnd.jupyter.widget-view+json": {
       "model_id": "445e0bec0e6f49648aad8964b17a85d2",
       "version_major": 2,
       "version_minor": 0
      },
      "text/plain": [
       "Dropdown(description='Wybierz plik:', options=('chest-xray.tif', 'aerial_view.tif', 'blurry-moon.tif', 'bonesc…"
      ]
     },
     "metadata": {},
     "output_type": "display_data"
    },
    {
     "data": {
      "application/vnd.jupyter.widget-view+json": {
       "model_id": "f51a7bb374fe4e8fa75302c6ac9c13da",
       "version_major": 2,
       "version_minor": 0
      },
      "text/plain": [
       "Output()"
      ]
     },
     "metadata": {},
     "output_type": "display_data"
    },
    {
     "data": {
      "application/vnd.jupyter.widget-view+json": {
       "model_id": "6925db821072446faddf90749af1e3d7",
       "version_major": 2,
       "version_minor": 0
      },
      "text/plain": [
       "interactive(children=(Dropdown(description='Wybierz plik:', options=('chest-xray.tif', 'aerial_view.tif', 'blu…"
      ]
     },
     "metadata": {},
     "output_type": "display_data"
    }
   ],
   "source": [
    "options = ['chest-xray.tif', 'aerial_view.tif', 'blurry-moon.tif', 'bonescan.tif', 'cboard_pepper_only.tif', 'cboard_salt_only.tif', 'cboard_salt_pepper.tif', 'characters_test_pattern.tif', 'circuitmask.tif', 'einstein-low-contrast.tif', 'hidden-symbols.tif', 'pollen-dark.tif', 'pollen-ligt.tif', 'pollen-lowcontrast.tif', 'pout.tif', 'spectrum.tif', 'text-dipxe-blurred.tif', 'zoneplate.tif']\n",
    "\n",
    "\n",
    "dropdown = widgets.Dropdown(\n",
    "    options=options,\n",
    "    description='Wybierz plik:',\n",
    ")\n",
    "\n",
    "output = widgets.interactive_output(readImage, {'imageName': dropdown})\n",
    "display(dropdown, output)\n",
    "\n",
    "@interact(imageName = dropdown)\n",
    "def closeAll(imageName):\n",
    "    plt.close(\"all\")"
   ]
  },
  {
   "cell_type": "markdown",
   "id": "b8fb7867-e225-4889-a18a-e14a40e726b2",
   "metadata": {},
   "source": [
    "Wyświetlanie wybranego obrazu"
   ]
  },
  {
   "cell_type": "code",
   "execution_count": 3,
   "id": "920c675f-32be-4386-aa87-79e49f712f17",
   "metadata": {},
   "outputs": [
    {
     "data": {
      "application/vnd.jupyter.widget-view+json": {
       "model_id": "9622590957014f77bbeced8ea3da43ee",
       "version_major": 2,
       "version_minor": 0
      },
      "text/plain": [
       "interactive(children=(Dropdown(description='Wybierz plik:', options=('chest-xray.tif', 'aerial_view.tif', 'blu…"
      ]
     },
     "metadata": {},
     "output_type": "display_data"
    }
   ],
   "source": [
    "@interact(imageName = dropdown)\n",
    "def showOriginImage(imageName):\n",
    "    readImage(imageName)\n",
    "    showImage(image)"
   ]
  },
  {
   "cell_type": "markdown",
   "id": "e03d2fc4-e498-4fc6-b024-c36582af7484",
   "metadata": {},
   "source": [
    "Tworzenie i wyświetlanie histogramu obrazu"
   ]
  },
  {
   "cell_type": "code",
   "execution_count": 4,
   "id": "eb4bfebf-c3a0-4dd6-ac70-e34a13856e27",
   "metadata": {},
   "outputs": [
    {
     "data": {
      "application/vnd.jupyter.widget-view+json": {
       "model_id": "b1a3ae38e9184b4481f4b9f91b12adc5",
       "version_major": 2,
       "version_minor": 0
      },
      "text/plain": [
       "interactive(children=(Dropdown(description='Wybierz plik:', options=('chest-xray.tif', 'aerial_view.tif', 'blu…"
      ]
     },
     "metadata": {},
     "output_type": "display_data"
    }
   ],
   "source": [
    "@interact(imageName = dropdown)\n",
    "def equalize(imageName):\n",
    "    readImage(imageName)\n",
    "    imageEqualized = ski.exposure.equalize_hist(image)\n",
    "    showImage(imageEqualized)"
   ]
  }
 ],
 "metadata": {
  "kernelspec": {
   "display_name": "Python 3 (ipykernel)",
   "language": "python",
   "name": "python3"
  },
  "language_info": {
   "codemirror_mode": {
    "name": "ipython",
    "version": 3
   },
   "file_extension": ".py",
   "mimetype": "text/x-python",
   "name": "python",
   "nbconvert_exporter": "python",
   "pygments_lexer": "ipython3",
   "version": "3.11.4"
  }
 },
 "nbformat": 4,
 "nbformat_minor": 5
}
