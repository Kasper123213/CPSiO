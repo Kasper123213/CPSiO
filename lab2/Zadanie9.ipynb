{
 "cells": [
  {
   "cell_type": "markdown",
   "id": "e21b160d-2a24-46e2-9ea8-4f76541afd1f",
   "metadata": {},
   "source": [
    "<h1>Zadanie 9</h1>"
   ]
  },
  {
   "cell_type": "markdown",
   "id": "8fa7d22a-cb31-4883-aa85-e293533550cd",
   "metadata": {},
   "source": [
    "<h2>CYFROWE PRZETWARZANIE SYGNAŁÓW I OBRAZÓW <br>\n",
    "Przetwarzanie i analiza sygnału EKG</h2>\n",
    "<h3>\n",
    "Kasper Radom 264023 <br>\n",
    "Maciej Szymczak 263978</h3>"
   ]
  },
  {
   "cell_type": "markdown",
   "id": "2f942ff7-0a21-4f73-ba2b-062c4e7b46c1",
   "metadata": {},
   "source": [
    "Importowanie niezbędnych bibliotek i deklaracja funkcji wczytującej obraz"
   ]
  },
  {
   "cell_type": "code",
   "execution_count": 6,
   "id": "e7ef6e4c-4652-452b-8a19-86be0394b893",
   "metadata": {},
   "outputs": [],
   "source": [
    "%matplotlib ipympl\n",
    "import numpy as np\n",
    "import skimage as ski\n",
    "import matplotlib.pyplot as plt\n",
    "from ipywidgets import interact, widgets\n",
    "from matplotlib.gridspec import GridSpec\n",
    "from matplotlib.widgets import SpanSelector\n",
    "\n",
    "image = ski.io.imread('cboard_salt_pepper.tif')\n",
    "def readImage(imageName):\n",
    "    global image\n",
    "    image = ski.io.imread(imageName)\n",
    "    \n",
    "    \n",
    "def showImage(image):\n",
    "    plt.figure()\n",
    "    ski.io.imshow(image)\n",
    "    plt.title(dropdown.value[:-4])\n",
    "    ski.io.show()"
   ]
  },
  {
   "cell_type": "markdown",
   "id": "a308ad6f-048e-4a1e-96db-974e2c16ccc2",
   "metadata": {},
   "source": [
    "Wybór obrazu"
   ]
  },
  {
   "cell_type": "code",
   "execution_count": 7,
   "id": "33cf9d8d-6912-4366-b2a1-f32558887872",
   "metadata": {},
   "outputs": [
    {
     "data": {
      "application/vnd.jupyter.widget-view+json": {
       "model_id": "f1a569ea9fcb416098959c394e6dcfc7",
       "version_major": 2,
       "version_minor": 0
      },
      "text/plain": [
       "Dropdown(description='Wybierz plik:', options=('cboard_salt_pepper.tif', 'chest-xray.tif', 'aerial_view.tif', …"
      ]
     },
     "metadata": {},
     "output_type": "display_data"
    },
    {
     "data": {
      "application/vnd.jupyter.widget-view+json": {
       "model_id": "1d98be9c12a04a5baa887edd612155de",
       "version_major": 2,
       "version_minor": 0
      },
      "text/plain": [
       "Output()"
      ]
     },
     "metadata": {},
     "output_type": "display_data"
    }
   ],
   "source": [
    "options = ['cboard_salt_pepper.tif', 'chest-xray.tif', 'aerial_view.tif', 'blurry-moon.tif', 'bonescan.tif', 'cboard_pepper_only.tif', 'cboard_salt_only.tif', 'characters_test_pattern.tif', 'circuitmask.tif', 'einstein-low-contrast.tif', 'hidden-symbols.tif', 'pollen-dark.tif', 'pollen-ligt.tif', 'pollen-lowcontrast.tif', 'pout.tif', 'spectrum.tif', 'text-dipxe-blurred.tif', 'zoneplate.tif']\n",
    "\n",
    "\n",
    "dropdown = widgets.Dropdown(\n",
    "    options=options,\n",
    "    description='Wybierz plik:',\n",
    ")\n",
    "\n",
    "output = widgets.interactive_output(readImage, {'imageName': dropdown})\n",
    "display(dropdown, output)"
   ]
  },
  {
   "cell_type": "markdown",
   "id": "3672c157-060d-4092-8cac-6c73ec8adc88",
   "metadata": {},
   "source": [
    "Wyświetlanie wybranego obrazu"
   ]
  },
  {
   "cell_type": "code",
   "execution_count": 8,
   "id": "f3c2bf89-44e7-4b9b-bf78-c35f761c92ca",
   "metadata": {},
   "outputs": [
    {
     "data": {
      "application/vnd.jupyter.widget-view+json": {
       "model_id": "d5f3f1e977e3401eb987b292f2ce29c3",
       "version_major": 2,
       "version_minor": 0
      },
      "text/plain": [
       "interactive(children=(Dropdown(description='Wybierz plik:', options=('cboard_salt_pepper.tif', 'chest-xray.tif…"
      ]
     },
     "metadata": {},
     "output_type": "display_data"
    }
   ],
   "source": [
    "@interact(imageName = dropdown)\n",
    "def showOriginImage(imageName):\n",
    "    readImage(imageName)\n",
    "    showImage(image)"
   ]
  },
  {
   "cell_type": "markdown",
   "id": "0b579b25-df01-496e-baee-68d4f70112a9",
   "metadata": {},
   "source": [
    "<h3>a)</h3>\n",
    "Zastosowanie filtra o masce:\n",
    "\\[\n",
    "\\begin{bmatrix}\n",
    "1 & 1 & 1 \\\\\n",
    "1 & 1 & 1 \\\\\n",
    "1 & 1 & 1 \\\\\n",
    "\\end{bmatrix}\n",
    "\\]"
   ]
  },
  {
   "cell_type": "markdown",
   "id": "b543a22c-6c81-4de0-9f30-220f2cc4f7af",
   "metadata": {},
   "source": [
    "Filtr uśredniający"
   ]
  },
  {
   "cell_type": "code",
   "execution_count": 21,
   "id": "1a042d9b-55bc-4ad9-a817-2b46399c7aa8",
   "metadata": {},
   "outputs": [
    {
     "data": {
      "application/vnd.jupyter.widget-view+json": {
       "model_id": "9018fd3f714a437a8546224b96f1e1f4",
       "version_major": 2,
       "version_minor": 0
      },
      "text/plain": [
       "interactive(children=(Dropdown(description='Wybierz plik:', options=('cboard_salt_pepper.tif', 'chest-xray.tif…"
      ]
     },
     "metadata": {},
     "output_type": "display_data"
    }
   ],
   "source": [
    "\n",
    "\n",
    "@interact(imageName = dropdown)\n",
    "def filterMean(imageName):\n",
    "    readImage(imageName)\n",
    "    filtered_image = ski.filters.rank.mean(image, footprint=np.array([[1,1,1],[1,1,1],[1,1,1]]))\n",
    "    showImage(filtered_image)"
   ]
  },
  {
   "cell_type": "markdown",
   "id": "d4e9d5e5-0f52-4858-89f7-8db197787c4d",
   "metadata": {},
   "source": [
    "<h3>b)</h3>\n",
    "Nieliniowy filtr medianowy"
   ]
  },
  {
   "cell_type": "code",
   "execution_count": 26,
   "id": "dca113e6-d43d-4052-862e-c0d044428017",
   "metadata": {},
   "outputs": [
    {
     "data": {
      "application/vnd.jupyter.widget-view+json": {
       "model_id": "d35a6349d01743c0b5a68e9e8fc2b86c",
       "version_major": 2,
       "version_minor": 0
      },
      "text/plain": [
       "interactive(children=(Dropdown(description='Wybierz plik:', options=('cboard_salt_pepper.tif', 'chest-xray.tif…"
      ]
     },
     "metadata": {},
     "output_type": "display_data"
    }
   ],
   "source": [
    "@interact(imageName = dropdown)\n",
    "def filterMedian(imageName):\n",
    "    readImage(imageName)\n",
    "    filtered_image2 = ski.filters.rank.median(image)\n",
    "    showImage(filtered_image2)"
   ]
  },
  {
   "cell_type": "markdown",
   "id": "a229f06f-14be-4349-99c6-be8010d19e25",
   "metadata": {},
   "source": [
    "<h3>c)</h3>\n",
    "Filtr minimum"
   ]
  },
  {
   "cell_type": "code",
   "execution_count": 23,
   "id": "38a9798c-2ecc-41db-a885-7d02d67a6b91",
   "metadata": {},
   "outputs": [
    {
     "data": {
      "application/vnd.jupyter.widget-view+json": {
       "model_id": "16c7fa385a77407791794b4729c9a5f4",
       "version_major": 2,
       "version_minor": 0
      },
      "text/plain": [
       "interactive(children=(Dropdown(description='Wybierz plik:', options=('cboard_salt_pepper.tif', 'chest-xray.tif…"
      ]
     },
     "metadata": {},
     "output_type": "display_data"
    }
   ],
   "source": [
    "@interact(imageName = dropdown)\n",
    "def filterMinimum(imageName):\n",
    "    readImage(imageName)\n",
    "    filtered_image2 = ski.filters.rank.minimum(image, footprint=np.array([[1,1,1],[1,1,1],[1,1,1]]))\n",
    "    showImage(filtered_image2)"
   ]
  },
  {
   "cell_type": "markdown",
   "id": "ffc7c9c1-f3d6-4e84-8482-f89efb1e4264",
   "metadata": {},
   "source": [
    "Filtr maksimum"
   ]
  },
  {
   "cell_type": "code",
   "execution_count": 29,
   "id": "0944f05e-29a7-4c4c-8eae-5f26898ae2f0",
   "metadata": {},
   "outputs": [
    {
     "data": {
      "application/vnd.jupyter.widget-view+json": {
       "model_id": "cdc36c610e4044b4b9771cf2e30079dd",
       "version_major": 2,
       "version_minor": 0
      },
      "text/plain": [
       "interactive(children=(Dropdown(description='Wybierz plik:', options=('cboard_salt_pepper.tif', 'chest-xray.tif…"
      ]
     },
     "metadata": {},
     "output_type": "display_data"
    }
   ],
   "source": [
    "@interact(imageName = dropdown)\n",
    "def filterMaximum(imageName):\n",
    "    readImage(imageName)\n",
    "    filtered_image2 = ski.filters.rank.maximum(image, footprint=np.array([[1,1,1],[1,1,1],[1,1,1]]))\n",
    "    showImage(filtered_image2)"
   ]
  }
 ],
 "metadata": {
  "kernelspec": {
   "display_name": "Python 3 (ipykernel)",
   "language": "python",
   "name": "python3"
  },
  "language_info": {
   "codemirror_mode": {
    "name": "ipython",
    "version": 3
   },
   "file_extension": ".py",
   "mimetype": "text/x-python",
   "name": "python",
   "nbconvert_exporter": "python",
   "pygments_lexer": "ipython3",
   "version": "3.11.4"
  }
 },
 "nbformat": 4,
 "nbformat_minor": 5
}
