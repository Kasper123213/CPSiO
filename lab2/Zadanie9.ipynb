{
 "cells": [
  {
   "cell_type": "markdown",
   "id": "e21b160d-2a24-46e2-9ea8-4f76541afd1f",
   "metadata": {},
   "source": [
    "<h1>Zadanie 9</h1>"
   ]
  },
  {
   "cell_type": "markdown",
   "id": "8fa7d22a-cb31-4883-aa85-e293533550cd",
   "metadata": {},
   "source": [
    "<h2>CYFROWE PRZETWARZANIE SYGNAŁÓW I OBRAZÓW <br>\n",
    "Przetwarzanie i analiza sygnału EKG</h2>\n",
    "<h3>\n",
    "Kasper Radom 264023 <br>\n",
    "Maciej Szymczak 263978</h3>"
   ]
  },
  {
   "cell_type": "markdown",
   "id": "2f942ff7-0a21-4f73-ba2b-062c4e7b46c1",
   "metadata": {},
   "source": [
    "Importowanie niezbędnych bibliotek i deklaracja funkcji wczytującej obraz"
   ]
  },
  {
   "cell_type": "code",
   "execution_count": 1,
   "id": "e7ef6e4c-4652-452b-8a19-86be0394b893",
   "metadata": {},
   "outputs": [],
   "source": [
    "%matplotlib ipympl\n",
    "import skimage as ski\n",
    "import matplotlib.pyplot as plt\n",
    "from ipywidgets import interact, widgets\n",
    "from matplotlib.gridspec import GridSpec\n",
    "from matplotlib.widgets import SpanSelector\n",
    "\n",
    "image = ski.io.imread('chest-xray.tif')\n",
    "def readImage(imageName):\n",
    "    global image\n",
    "    image = ski.io.imread(imageName)\n",
    "    \n",
    "    \n",
    "def showImage(image):\n",
    "    plt.figure()\n",
    "    ski.io.imshow(image)\n",
    "    plt.title(dropdown.value[:-4])\n",
    "    ski.io.show()"
   ]
  },
  {
   "cell_type": "markdown",
   "id": "a308ad6f-048e-4a1e-96db-974e2c16ccc2",
   "metadata": {},
   "source": [
    "Wybór obrazu"
   ]
  },
  {
   "cell_type": "code",
   "execution_count": 2,
   "id": "33cf9d8d-6912-4366-b2a1-f32558887872",
   "metadata": {},
   "outputs": [
    {
     "data": {
      "application/vnd.jupyter.widget-view+json": {
       "model_id": "0bda83a5646a4d7799c074e4e3842c0f",
       "version_major": 2,
       "version_minor": 0
      },
      "text/plain": [
       "Dropdown(description='Wybierz plik:', options=('chest-xray.tif', 'aerial_view.tif', 'blurry-moon.tif', 'bonesc…"
      ]
     },
     "metadata": {},
     "output_type": "display_data"
    },
    {
     "data": {
      "application/vnd.jupyter.widget-view+json": {
       "model_id": "58b0a75697874e1abebb13bf630b7c97",
       "version_major": 2,
       "version_minor": 0
      },
      "text/plain": [
       "Output()"
      ]
     },
     "metadata": {},
     "output_type": "display_data"
    }
   ],
   "source": [
    "options = ['chest-xray.tif', 'aerial_view.tif', 'blurry-moon.tif', 'bonescan.tif', 'cboard_pepper_only.tif', 'cboard_salt_only.tif', 'cboard_salt_pepper.tif', 'characters_test_pattern.tif', 'circuitmask.tif', 'einstein-low-contrast.tif', 'hidden-symbols.tif', 'pollen-dark.tif', 'pollen-ligt.tif', 'pollen-lowcontrast.tif', 'pout.tif', 'spectrum.tif', 'text-dipxe-blurred.tif', 'zoneplate.tif']\n",
    "\n",
    "\n",
    "dropdown = widgets.Dropdown(\n",
    "    options=options,\n",
    "    description='Wybierz plik:',\n",
    ")\n",
    "\n",
    "output = widgets.interactive_output(readImage, {'imageName': dropdown})\n",
    "display(dropdown, output)"
   ]
  },
  {
   "cell_type": "markdown",
   "id": "3672c157-060d-4092-8cac-6c73ec8adc88",
   "metadata": {},
   "source": [
    "Wyświetlanie wybranego obrazu"
   ]
  },
  {
   "cell_type": "code",
   "execution_count": 3,
   "id": "f3c2bf89-44e7-4b9b-bf78-c35f761c92ca",
   "metadata": {},
   "outputs": [
    {
     "data": {
      "application/vnd.jupyter.widget-view+json": {
       "model_id": "60af5717b8c941b29ee2236168df13bf",
       "version_major": 2,
       "version_minor": 0
      },
      "text/plain": [
       "interactive(children=(Dropdown(description='Wybierz plik:', options=('chest-xray.tif', 'aerial_view.tif', 'blu…"
      ]
     },
     "metadata": {},
     "output_type": "display_data"
    }
   ],
   "source": [
    "@interact(imageName = dropdown)\n",
    "def showOriginImage(imageName):\n",
    "    readImage(imageName)\n",
    "    showImage(image)"
   ]
  },
  {
   "cell_type": "markdown",
   "id": "53c03898-0b54-4662-8d89-45488a5c031c",
   "metadata": {},
   "source": [
    "Tworzenie i wyświetlanie histogramu obrazu"
   ]
  },
  {
   "cell_type": "code",
   "execution_count": 4,
   "id": "1a042d9b-55bc-4ad9-a817-2b46399c7aa8",
   "metadata": {},
   "outputs": [
    {
     "data": {
      "application/vnd.jupyter.widget-view+json": {
       "model_id": "0ad6097f26054ba5873accfdfa71259b",
       "version_major": 2,
       "version_minor": 0
      },
      "text/plain": [
       "interactive(children=(Dropdown(description='Wybierz plik:', index=1, options=('chest-xray.tif', 'aerial_view.t…"
      ]
     },
     "metadata": {},
     "output_type": "display_data"
    }
   ],
   "source": [
    "@interact(imageName = dropdown)\n",
    "def equalize(imageName):\n",
    "    readImage(imageName)\n",
    "    imageEqualized = ski.exposure.equalize_hist(image)\n",
    "    showImage(imageEqualized)"
   ]
  }
 ],
 "metadata": {
  "kernelspec": {
   "display_name": "Python 3 (ipykernel)",
   "language": "python",
   "name": "python3"
  },
  "language_info": {
   "codemirror_mode": {
    "name": "ipython",
    "version": 3
   },
   "file_extension": ".py",
   "mimetype": "text/x-python",
   "name": "python",
   "nbconvert_exporter": "python",
   "pygments_lexer": "ipython3",
   "version": "3.11.4"
  }
 },
 "nbformat": 4,
 "nbformat_minor": 5
}
